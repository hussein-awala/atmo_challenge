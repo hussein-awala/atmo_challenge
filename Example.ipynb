{
 "cells": [
  {
   "cell_type": "code",
   "execution_count": 1,
   "metadata": {},
   "outputs": [],
   "source": [
    "%load_ext autoreload\n",
    "%autoreload 2\n",
    "import prediction\n",
    "from utils import load_data,get_data_day"
   ]
  },
  {
   "cell_type": "code",
   "execution_count": 2,
   "metadata": {},
   "outputs": [],
   "source": [
    "import logging\n",
    "logging.basicConfig(level=logging.INFO)"
   ]
  },
  {
   "cell_type": "markdown",
   "metadata": {},
   "source": [
    "## Use functions separately"
   ]
  },
  {
   "cell_type": "code",
   "execution_count": null,
   "metadata": {},
   "outputs": [],
   "source": [
    "all_data=load_data('Data/training/') # get data from files\n",
    "# returns a dictionnary {\"sites\":sites,\"chimeres\":chimeres,\"geops\":geops,\"meteo\":meteo,\"concentrations\":concentrations}\n",
    "# see utils.load_data function for more details"
   ]
  },
  {
   "cell_type": "code",
   "execution_count": null,
   "metadata": {},
   "outputs": [],
   "source": [
    "data_day=get_data_day(3,all_data) ## extract allowed data for day=3 (! january 4 as python starts with 0)"
   ]
  },
  {
   "cell_type": "code",
   "execution_count": null,
   "metadata": {},
   "outputs": [],
   "source": [
    "## apply predict function for day=3\n",
    "prediction.predict(3,sites=all_data['sites'],chimeres_day=data_day[0],geops_day=data_day[1],meteo_day=data_day[2],concentrations_day=data_day[3])"
   ]
  },
  {
   "cell_type": "markdown",
   "metadata": {},
   "source": [
    "## Main function similar to the platform"
   ]
  },
  {
   "cell_type": "code",
   "execution_count": 3,
   "metadata": {},
   "outputs": [
    {
     "name": "stderr",
     "output_type": "stream",
     "text": [
      "INFO:utils:Loading sites files\n",
      "/home/hussein/anaconda3/lib/python3.6/site-packages/rpy2/robjects/pandas2ri.py:191: FutureWarning: from_items is deprecated. Please use DataFrame.from_dict(dict(items), ...) instead. DataFrame.from_dict(OrderedDict(items)) may be used to preserve the key order.\n",
      "  res = PandasDataFrame.from_items(items)\n",
      "INFO:utils:Loading Chimere files\n",
      "INFO:utils:Loading Geop files\n",
      "INFO:utils:Loading Meteo files\n",
      "INFO:utils:Loading concentrations measure files\n"
     ]
    },
    {
     "name": "stdout",
     "output_type": "stream",
     "text": [
      "5\n"
     ]
    },
    {
     "name": "stderr",
     "output_type": "stream",
     "text": [
      "/home/hussein/anaconda3/lib/python3.6/site-packages/pandas/core/frame.py:3697: SettingWithCopyWarning: \n",
      "A value is trying to be set on a copy of a slice from a DataFrame\n",
      "\n",
      "See the caveats in the documentation: http://pandas.pydata.org/pandas-docs/stable/indexing.html#indexing-view-versus-copy\n",
      "  errors=errors)\n",
      "/home/hussein/PycharmProjects/team_first_place/prediction.py:125: SettingWithCopyWarning: \n",
      "A value is trying to be set on a copy of a slice from a DataFrame.\n",
      "Try using .loc[row_indexer,col_indexer] = value instead\n",
      "\n",
      "See the caveats in the documentation: http://pandas.pydata.org/pandas-docs/stable/indexing.html#indexing-view-versus-copy\n",
      "  t1['date'] = pd.to_datetime(t1['date'])\n",
      "/home/hussein/PycharmProjects/team_first_place/prediction.py:130: SettingWithCopyWarning: \n",
      "A value is trying to be set on a copy of a slice from a DataFrame.\n",
      "Try using .loc[row_indexer,col_indexer] = value instead\n",
      "\n",
      "See the caveats in the documentation: http://pandas.pydata.org/pandas-docs/stable/indexing.html#indexing-view-versus-copy\n",
      "  t2['date'] = pd.to_datetime(t2['date'])\n",
      "/home/hussein/PycharmProjects/team_first_place/prediction.py:135: SettingWithCopyWarning: \n",
      "A value is trying to be set on a copy of a slice from a DataFrame.\n",
      "Try using .loc[row_indexer,col_indexer] = value instead\n",
      "\n",
      "See the caveats in the documentation: http://pandas.pydata.org/pandas-docs/stable/indexing.html#indexing-view-versus-copy\n",
      "  t3['date'] = pd.to_datetime(t3['date'])\n",
      "/home/hussein/PycharmProjects/team_first_place/prediction.py:140: SettingWithCopyWarning: \n",
      "A value is trying to be set on a copy of a slice from a DataFrame.\n",
      "Try using .loc[row_indexer,col_indexer] = value instead\n",
      "\n",
      "See the caveats in the documentation: http://pandas.pydata.org/pandas-docs/stable/indexing.html#indexing-view-versus-copy\n",
      "  t4['date'] = pd.to_datetime(t4['date'])\n",
      "/home/hussein/PycharmProjects/team_first_place/prediction.py:149: SettingWithCopyWarning: \n",
      "A value is trying to be set on a copy of a slice from a DataFrame.\n",
      "Try using .loc[row_indexer,col_indexer] = value instead\n",
      "\n",
      "See the caveats in the documentation: http://pandas.pydata.org/pandas-docs/stable/indexing.html#indexing-view-versus-copy\n",
      "  meteo['date'] = pd.to_datetime(meteo['date'])\n",
      "/home/hussein/PycharmProjects/team_first_place/prediction.py:152: SettingWithCopyWarning: \n",
      "A value is trying to be set on a copy of a slice from a DataFrame\n",
      "\n",
      "See the caveats in the documentation: http://pandas.pydata.org/pandas-docs/stable/indexing.html#indexing-view-versus-copy\n",
      "  meteo.sort_index(inplace=True)\n",
      "/home/hussein/PycharmProjects/team_first_place/prediction.py:202: SettingWithCopyWarning: \n",
      "A value is trying to be set on a copy of a slice from a DataFrame.\n",
      "Try using .loc[row_indexer,col_indexer] = value instead\n",
      "\n",
      "See the caveats in the documentation: http://pandas.pydata.org/pandas-docs/stable/indexing.html#indexing-view-versus-copy\n",
      "  group['date'] = pd.to_datetime(group['date'])\n"
     ]
    }
   ],
   "source": [
    "prediction.run_predict(list_days=[5],dirname='Data/training/')"
   ]
  },
  {
   "cell_type": "code",
   "execution_count": 4,
   "metadata": {},
   "outputs": [
    {
     "name": "stderr",
     "output_type": "stream",
     "text": [
      "/home/hussein/anaconda3/lib/python3.6/site-packages/rpy2/robjects/pandas2ri.py:191: FutureWarning: from_items is deprecated. Please use DataFrame.from_dict(dict(items), ...) instead. DataFrame.from_dict(OrderedDict(items)) may be used to preserve the key order.\n",
      "  res = PandasDataFrame.from_items(items)\n"
     ]
    },
    {
     "name": "stdout",
     "output_type": "stream",
     "text": [
      "O3\n"
     ]
    },
    {
     "name": "stderr",
     "output_type": "stream",
     "text": [
      "INFO:__main__:Only nan values in ground truth for site 15017, day 5 and pol O3 \n",
      "INFO:__main__:Only nan values in ground truth for site 15049, day 5 and pol O3 \n",
      "INFO:__main__:Only nan values in ground truth for site 20037, day 5 and pol O3 \n",
      "INFO:__main__:Only nan values in ground truth for site 27003, day 5 and pol O3 \n",
      "INFO:__main__:Only nan values in ground truth for site 33212, day 5 and pol O3 \n",
      "INFO:__main__:Only nan values in ground truth for site 33414, day 5 and pol O3 \n",
      "INFO:__main__:Only nan values in ground truth for site 33233, day 5 and pol O3 \n",
      "INFO:__main__:Only nan values in ground truth for site 33303, day 5 and pol O3 \n",
      "INFO:__main__:Only nan values in ground truth for site 36005, day 5 and pol O3 \n",
      "INFO:__main__:Only nan values in ground truth for site 15017, day 5 and pol O3 \n",
      "INFO:__main__:Only nan values in ground truth for site 15049, day 5 and pol O3 \n",
      "INFO:__main__:Only nan values in ground truth for site 20037, day 5 and pol O3 \n",
      "INFO:__main__:Only nan values in ground truth for site 27003, day 5 and pol O3 \n",
      "INFO:__main__:Only nan values in ground truth for site 29421, day 5 and pol O3 \n",
      "INFO:__main__:Only nan values in ground truth for site 33212, day 5 and pol O3 \n",
      "INFO:__main__:Only nan values in ground truth for site 33414, day 5 and pol O3 \n",
      "INFO:__main__:Only nan values in ground truth for site 33303, day 5 and pol O3 \n",
      "INFO:__main__:Only nan values in ground truth for site 36005, day 5 and pol O3 \n",
      "INFO:__main__:Only nan values in ground truth for site 15017, day 5 and pol O3 \n",
      "INFO:__main__:Only nan values in ground truth for site 15049, day 5 and pol O3 \n",
      "INFO:__main__:Only nan values in ground truth for site 20037, day 5 and pol O3 \n",
      "INFO:__main__:Only nan values in ground truth for site 27003, day 5 and pol O3 \n",
      "INFO:__main__:Only nan values in ground truth for site 29421, day 5 and pol O3 \n",
      "INFO:__main__:Only nan values in ground truth for site 33212, day 5 and pol O3 \n",
      "INFO:__main__:Only nan values in ground truth for site 33414, day 5 and pol O3 \n",
      "INFO:__main__:Only nan values in ground truth for site 33303, day 5 and pol O3 \n",
      "INFO:__main__:Only nan values in ground truth for site 36005, day 5 and pol O3 \n"
     ]
    },
    {
     "name": "stdout",
     "output_type": "stream",
     "text": [
      "NO2\n"
     ]
    },
    {
     "name": "stderr",
     "output_type": "stream",
     "text": [
      "INFO:__main__:Only nan values in ground truth for site 15049, day 5 and pol NO2 \n",
      "INFO:__main__:Only nan values in ground truth for site 20019, day 5 and pol NO2 \n",
      "INFO:__main__:Only nan values in ground truth for site 20063, day 5 and pol NO2 \n",
      "INFO:__main__:Only nan values in ground truth for site 20069, day 5 and pol NO2 \n",
      "INFO:__main__:Only nan values in ground truth for site 33212, day 5 and pol NO2 \n",
      "INFO:__main__:Only nan values in ground truth for site 33303, day 5 and pol NO2 \n",
      "INFO:__main__:Only nan values in ground truth for site 36005, day 5 and pol NO2 \n",
      "INFO:__main__:Only nan values in ground truth for site 15049, day 5 and pol NO2 \n",
      "INFO:__main__:Only nan values in ground truth for site 20063, day 5 and pol NO2 \n",
      "INFO:__main__:Only nan values in ground truth for site 29421, day 5 and pol NO2 \n",
      "INFO:__main__:Only nan values in ground truth for site 33212, day 5 and pol NO2 \n",
      "INFO:__main__:Only nan values in ground truth for site 33303, day 5 and pol NO2 \n",
      "INFO:__main__:Only nan values in ground truth for site 36005, day 5 and pol NO2 \n",
      "INFO:__main__:Only nan values in ground truth for site 15049, day 5 and pol NO2 \n",
      "INFO:__main__:Only nan values in ground truth for site 20063, day 5 and pol NO2 \n",
      "INFO:__main__:Only nan values in ground truth for site 29421, day 5 and pol NO2 \n",
      "INFO:__main__:Only nan values in ground truth for site 33212, day 5 and pol NO2 \n",
      "INFO:__main__:Only nan values in ground truth for site 33303, day 5 and pol NO2 \n",
      "INFO:__main__:Only nan values in ground truth for site 36005, day 5 and pol NO2 \n"
     ]
    },
    {
     "name": "stdout",
     "output_type": "stream",
     "text": [
      "PM10\n"
     ]
    },
    {
     "name": "stderr",
     "output_type": "stream",
     "text": [
      "INFO:__main__:Only nan values in ground truth for site 15049, day 5 and pol PM10 \n",
      "INFO:__main__:Only nan values in ground truth for site 20019, day 5 and pol PM10 \n",
      "INFO:__main__:Only nan values in ground truth for site 20063, day 5 and pol PM10 \n",
      "INFO:__main__:Only nan values in ground truth for site 33212, day 5 and pol PM10 \n",
      "INFO:__main__:Only nan values in ground truth for site 33235, day 5 and pol PM10 \n",
      "INFO:__main__:Only nan values in ground truth for site 33303, day 5 and pol PM10 \n",
      "INFO:__main__:Only nan values in ground truth for site 36005, day 5 and pol PM10 \n",
      "INFO:__main__:Only nan values in ground truth for site 15049, day 5 and pol PM10 \n",
      "INFO:__main__:Only nan values in ground truth for site 20063, day 5 and pol PM10 \n",
      "INFO:__main__:Only nan values in ground truth for site 29421, day 5 and pol PM10 \n",
      "INFO:__main__:Only nan values in ground truth for site 33212, day 5 and pol PM10 \n",
      "INFO:__main__:Only nan values in ground truth for site 33235, day 5 and pol PM10 \n",
      "INFO:__main__:Only nan values in ground truth for site 33303, day 5 and pol PM10 \n",
      "INFO:__main__:Only nan values in ground truth for site 36005, day 5 and pol PM10 \n",
      "INFO:__main__:Only nan values in ground truth for site 15049, day 5 and pol PM10 \n",
      "INFO:__main__:Only nan values in ground truth for site 20063, day 5 and pol PM10 \n",
      "INFO:__main__:Only nan values in ground truth for site 29421, day 5 and pol PM10 \n",
      "INFO:__main__:Only nan values in ground truth for site 33212, day 5 and pol PM10 \n",
      "INFO:__main__:Only nan values in ground truth for site 33235, day 5 and pol PM10 \n",
      "INFO:__main__:Only nan values in ground truth for site 33367, day 5 and pol PM10 \n",
      "INFO:__main__:Only nan values in ground truth for site 33303, day 5 and pol PM10 \n",
      "INFO:__main__:Only nan values in ground truth for site 36005, day 5 and pol PM10 \n"
     ]
    },
    {
     "name": "stdout",
     "output_type": "stream",
     "text": [
      "PM25\n"
     ]
    },
    {
     "name": "stderr",
     "output_type": "stream",
     "text": [
      "INFO:__main__:Only nan values in ground truth for site 15049, day 5 and pol PM25 \n",
      "INFO:__main__:Only nan values in ground truth for site 20065, day 5 and pol PM25 \n",
      "INFO:__main__:Only nan values in ground truth for site 27004, day 5 and pol PM25 \n",
      "INFO:__main__:Only nan values in ground truth for site 33212, day 5 and pol PM25 \n",
      "INFO:__main__:Only nan values in ground truth for site 36005, day 5 and pol PM25 \n",
      "INFO:__main__:Only nan values in ground truth for site 15049, day 5 and pol PM25 \n",
      "INFO:__main__:Only nan values in ground truth for site 20065, day 5 and pol PM25 \n",
      "INFO:__main__:Only nan values in ground truth for site 27004, day 5 and pol PM25 \n",
      "INFO:__main__:Only nan values in ground truth for site 33212, day 5 and pol PM25 \n",
      "INFO:__main__:Only nan values in ground truth for site 36005, day 5 and pol PM25 \n",
      "INFO:__main__:Only nan values in ground truth for site 15049, day 5 and pol PM25 \n",
      "INFO:__main__:Only nan values in ground truth for site 20065, day 5 and pol PM25 \n",
      "INFO:__main__:Only nan values in ground truth for site 27004, day 5 and pol PM25 \n",
      "INFO:__main__:Only nan values in ground truth for site 33212, day 5 and pol PM25 \n",
      "INFO:__main__:Only nan values in ground truth for site 36005, day 5 and pol PM25 \n"
     ]
    }
   ],
   "source": [
    "## Get score\n",
    "%run scoring"
   ]
  },
  {
   "cell_type": "code",
   "execution_count": null,
   "metadata": {},
   "outputs": [],
   "source": []
  }
 ],
 "metadata": {
  "kernelspec": {
   "display_name": "Python 3",
   "language": "python",
   "name": "python3"
  },
  "language_info": {
   "codemirror_mode": {
    "name": "ipython",
    "version": 3
   },
   "file_extension": ".py",
   "mimetype": "text/x-python",
   "name": "python",
   "nbconvert_exporter": "python",
   "pygments_lexer": "ipython3",
   "version": "3.6.6"
  }
 },
 "nbformat": 4,
 "nbformat_minor": 2
}
