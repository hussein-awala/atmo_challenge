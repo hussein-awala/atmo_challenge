{
 "cells": [
  {
   "cell_type": "code",
   "execution_count": null,
   "metadata": {},
   "outputs": [],
   "source": [
    "import numpy as np\n",
    "import pandas as pd\n",
    "from datetime import datetime"
   ]
  },
  {
   "cell_type": "code",
   "execution_count": null,
   "metadata": {},
   "outputs": [],
   "source": [
    "data=pd.read_csv('data/WRF/meteoWRF_2012.csv')\n",
    "data.head(5)"
   ]
  },
  {
   "cell_type": "code",
   "execution_count": null,
   "metadata": {},
   "outputs": [],
   "source": [
    "data = data.drop(columns=\"Unnamed: 0\")\n",
    "data.head()"
   ]
  },
  {
   "cell_type": "code",
   "execution_count": null,
   "metadata": {},
   "outputs": [],
   "source": [
    "data['date']=y=pd.to_datetime(data['date'], format='%Y-%m-%d %H:%M:%S')"
   ]
  },
  {
   "cell_type": "code",
   "execution_count": null,
   "metadata": {},
   "outputs": [],
   "source": [
    "data=data.set_index(['idPolair','date'])"
   ]
  },
  {
   "cell_type": "code",
   "execution_count": null,
   "metadata": {},
   "outputs": [],
   "source": [
    "data.sort_index(inplace=True)"
   ]
  },
  {
   "cell_type": "code",
   "execution_count": null,
   "metadata": {},
   "outputs": [],
   "source": [
    "data.isnull().any()"
   ]
  },
  {
   "cell_type": "code",
   "execution_count": null,
   "metadata": {},
   "outputs": [],
   "source": [
    "o3=pd.read_csv('data/training/Challenge_Data_O3_2012.csv')"
   ]
  },
  {
   "cell_type": "code",
   "execution_count": null,
   "metadata": {},
   "outputs": [],
   "source": [
    "o3.isnull().any()"
   ]
  },
  {
   "cell_type": "code",
   "execution_count": null,
   "metadata": {},
   "outputs": [],
   "source": [
    "o3.head()"
   ]
  },
  {
   "cell_type": "code",
   "execution_count": null,
   "metadata": {},
   "outputs": [],
   "source": [
    "o3.drop(columns='Unnamed: 0',inplace=True)"
   ]
  },
  {
   "cell_type": "code",
   "execution_count": null,
   "metadata": {},
   "outputs": [],
   "source": [
    "o3['idPolair']=o3['Organisme']*1000+o3['Station']"
   ]
  },
  {
   "cell_type": "code",
   "execution_count": null,
   "metadata": {},
   "outputs": [],
   "source": [
    "o3.drop(columns=['Organisme','Station'],inplace=True)"
   ]
  },
  {
   "cell_type": "code",
   "execution_count": null,
   "metadata": {},
   "outputs": [],
   "source": [
    "o3['date']=y=pd.to_datetime(o3['Date'], format='%d/%m/%Y %H:%M')"
   ]
  },
  {
   "cell_type": "code",
   "execution_count": null,
   "metadata": {},
   "outputs": [],
   "source": [
    "o3.drop(columns='Date',inplace=True)"
   ]
  },
  {
   "cell_type": "code",
   "execution_count": null,
   "metadata": {},
   "outputs": [],
   "source": [
    "o3.set_index(['idPolair','date'],inplace=True)"
   ]
  },
  {
   "cell_type": "code",
   "execution_count": null,
   "metadata": {},
   "outputs": [],
   "source": [
    "o3.sort_index(inplace=True)"
   ]
  },
  {
   "cell_type": "code",
   "execution_count": null,
   "metadata": {},
   "outputs": [],
   "source": [
    "o3['Valeur']=o3['Valeur'].interpolate(method='linear')"
   ]
  },
  {
   "cell_type": "code",
   "execution_count": null,
   "metadata": {},
   "outputs": [],
   "source": [
    "o3['o3']=o3['Valeur']\n",
    "o3.drop(columns='Valeur',inplace=True)"
   ]
  },
  {
   "cell_type": "code",
   "execution_count": null,
   "metadata": {},
   "outputs": [],
   "source": [
    "df=pd.merge(data,o3,left_index=True,right_index=True,how='left')"
   ]
  },
  {
   "cell_type": "code",
   "execution_count": null,
   "metadata": {},
   "outputs": [],
   "source": [
    "df"
   ]
  },
  {
   "cell_type": "code",
   "execution_count": null,
   "metadata": {},
   "outputs": [],
   "source": [
    "df.loc[7001].resample('Y').count()"
   ]
  },
  {
   "cell_type": "code",
   "execution_count": null,
   "metadata": {},
   "outputs": [],
   "source": [
    "df.index.levels[0]"
   ]
  },
  {
   "cell_type": "code",
   "execution_count": null,
   "metadata": {},
   "outputs": [],
   "source": [
    "df.isnull().any()"
   ]
  },
  {
   "cell_type": "code",
   "execution_count": null,
   "metadata": {},
   "outputs": [],
   "source": [
    "no2=pd.read_csv('data/training/Challenge_Data_NO2_2012.csv')"
   ]
  },
  {
   "cell_type": "code",
   "execution_count": null,
   "metadata": {},
   "outputs": [],
   "source": [
    "no2.isnull().any()"
   ]
  },
  {
   "cell_type": "code",
   "execution_count": null,
   "metadata": {},
   "outputs": [],
   "source": [
    "no2.drop(columns='Unnamed: 0',inplace=True)"
   ]
  },
  {
   "cell_type": "code",
   "execution_count": 1,
   "metadata": {},
   "outputs": [],
   "source": [
    "import rpy2.robjects as ro\n",
    "from rpy2.robjects import pandas2ri\n",
    "pandas2ri.activate()\n",
    "\n",
    "from glob import glob\n",
    "from os.path import join\n",
    "import pandas\n",
    "import datetime\n",
    "import numpy as np\n",
    "import logging\n",
    "import os.path\n",
    "# readRDS = robjects.r['readRDS']\n",
    "# o3Test = readRDS('./training/measures/Challenge_Data_O3_2012.rds')\n",
    "# o3Test = pandas2ri.ri2py(o3Test)"
   ]
  },
  {
   "cell_type": "code",
   "execution_count": null,
   "metadata": {},
   "outputs": [],
   "source": [
    "dirname=\"Data/training/Description_Stations.RData\"\n",
    "year=2016\n",
    "ro.r['load'](dirname)\n",
    "sites = ro.r['Description_Stations']\n",
    "sites = pandas2ri.ri2py(sites)\n",
    "#sites = pandas2ri.ri2py(sites)\n",
    "## chimere \n",
    "## Dict on Pollutants\n",
    "## for each pollutant\n",
    "\n",
    "\n",
    "## Geop\n",
    "## Dict on sites\n",
    "## Dataframe with columns 'date', 'idPolair', 'geop_p_500hPa', 'geop_p_850hPa'\n",
    "print(sites)\n",
    "x=0\n",
    "y=0\n",
    "sites=np.array(sites.idPolair.unique(),int)\n",
    "sites=np.array(sites,str)\n",
    "for site in sites:\n",
    "    fname = join('Data/training/',f\"WRF/Geop_02/Geop.{site}.{year}.d02.rds\")\n",
    "    if os.path.isfile(fname):\n",
    "        #data = loadFile(fname)\n",
    "        #geops[site] = data\n",
    "        x=x+1\n",
    "    else:\n",
    "        print(site)\n",
    "\n",
    "print(x)\n",
    "print(y)"
   ]
  },
  {
   "cell_type": "code",
   "execution_count": null,
   "metadata": {},
   "outputs": [],
   "source": [
    "old=np.array(sites,int)"
   ]
  },
  {
   "cell_type": "code",
   "execution_count": null,
   "metadata": {},
   "outputs": [],
   "source": [
    "new=sites"
   ]
  },
  {
   "cell_type": "code",
   "execution_count": null,
   "metadata": {},
   "outputs": [],
   "source": [
    "\n",
    "old=np.array(old,int)\n",
    "old.sort()\n",
    "old"
   ]
  },
  {
   "cell_type": "code",
   "execution_count": null,
   "metadata": {},
   "outputs": [],
   "source": [
    "new=np.array(new,int)\n",
    "new.sort()\n",
    "new"
   ]
  },
  {
   "cell_type": "code",
   "execution_count": null,
   "metadata": {},
   "outputs": [],
   "source": [
    "new-old"
   ]
  },
  {
   "cell_type": "code",
   "execution_count": null,
   "metadata": {},
   "outputs": [],
   "source": []
  },
  {
   "cell_type": "code",
   "execution_count": 18,
   "metadata": {},
   "outputs": [],
   "source": [
    "import utils"
   ]
  },
  {
   "cell_type": "code",
   "execution_count": 19,
   "metadata": {},
   "outputs": [
    {
     "name": "stderr",
     "output_type": "stream",
     "text": [
      "/home/hussein/anaconda3/lib/python3.6/site-packages/rpy2/robjects/pandas2ri.py:191: FutureWarning: from_items is deprecated. Please use DataFrame.from_dict(dict(items), ...) instead. DataFrame.from_dict(OrderedDict(items)) may be used to preserve the key order.\n",
      "  res = PandasDataFrame.from_items(items)\n"
     ]
    }
   ],
   "source": [
    "x=utils.load_data(dirname='Data/training/')"
   ]
  },
  {
   "cell_type": "code",
   "execution_count": 17,
   "metadata": {},
   "outputs": [
    {
     "data": {
      "text/plain": [
       "(107,)"
      ]
     },
     "execution_count": 17,
     "metadata": {},
     "output_type": "execute_result"
    }
   ],
   "source": [
    "a=np.array(list(x['geops'].keys()))\n",
    "np.save('idsPolair',a)\n",
    "a.shape"
   ]
  },
  {
   "cell_type": "code",
   "execution_count": 5,
   "metadata": {},
   "outputs": [
    {
     "data": {
      "text/plain": [
       "(74,)"
      ]
     },
     "execution_count": 5,
     "metadata": {},
     "output_type": "execute_result"
    }
   ],
   "source": [
    "np.array(a)\n",
    "a.shape"
   ]
  },
  {
   "cell_type": "code",
   "execution_count": null,
   "metadata": {},
   "outputs": [],
   "source": [
    "a,b,c,d=get_data_day(all_data=x,day=20,max_days=10,year=2016)"
   ]
  },
  {
   "cell_type": "code",
   "execution_count": null,
   "metadata": {},
   "outputs": [],
   "source": [
    "a['O3']['idPolair'].unique()"
   ]
  },
  {
   "cell_type": "code",
   "execution_count": null,
   "metadata": {},
   "outputs": [],
   "source": [
    "x['sites'][['Département', 'Zone_EPCI', 'typologie','NO2_influence', 'NO2_2012']].isnull().any()"
   ]
  },
  {
   "cell_type": "code",
   "execution_count": null,
   "metadata": {},
   "outputs": [],
   "source": [
    "x['sites'][['idPolair','coord_x_l93','coord_y_l93','X_lamb2','Y_lamb2','LON','LAT','Département', 'Zone_EPCI', 'typologie']].isnull().any()"
   ]
  },
  {
   "cell_type": "code",
   "execution_count": null,
   "metadata": {},
   "outputs": [],
   "source": [
    "t1=x['chimeres']['NO2'].copy()\n",
    "t1.drop(columns='param',inplace=True)\n",
    "t1['date']=pd.to_datetime(t1['date'])\n",
    "t1.set_index(['idPolair','date'],inplace=True)\n",
    "t1.sort_index(inplace=True)\n",
    "t1.interpolate(inplace=True)\n",
    "t1.columns=['NO2']\n",
    "t2=x['chimeres']['O3'].copy()\n",
    "t2.drop(columns='param',inplace=True)\n",
    "t2['date']=pd.to_datetime(t2['date'])\n",
    "t2.set_index(['idPolair','date'],inplace=True)\n",
    "t2.sort_index(inplace=True)\n",
    "t2.interpolate(inplace=True)\n",
    "t2.columns=['O3']\n",
    "t3=x['chimeres']['PM10'].copy()\n",
    "t3.drop(columns='param',inplace=True)\n",
    "t3['date']=pd.to_datetime(t3['date'])\n",
    "t3.set_index(['idPolair','date'],inplace=True)\n",
    "t3.sort_index(inplace=True)\n",
    "t3.interpolate(inplace=True)\n",
    "t3.columns=['PM10']\n",
    "t4=x['chimeres']['PM25'].copy()\n",
    "t4.drop(columns='param',inplace=True)\n",
    "t4['date']=pd.to_datetime(t4['date'])\n",
    "t4.set_index(['idPolair','date'],inplace=True)\n",
    "t4.sort_index(inplace=True)\n",
    "t4.interpolate(inplace=True)\n",
    "t4.columns=['PM25']\n",
    "t5=pd.merge(t1,pd.merge(t2,pd.merge(t3,t4,left_index=True,right_index=True),left_index=True,right_index=True),left_index=True,right_index=True)"
   ]
  },
  {
   "cell_type": "code",
   "execution_count": null,
   "metadata": {},
   "outputs": [],
   "source": [
    "t5.loc[15017].head()"
   ]
  },
  {
   "cell_type": "code",
   "execution_count": null,
   "metadata": {},
   "outputs": [],
   "source": [
    "meteo=x['meteo']\n",
    "meteo.head()"
   ]
  },
  {
   "cell_type": "code",
   "execution_count": null,
   "metadata": {},
   "outputs": [],
   "source": [
    "sites=x['sites'][['idPolair','coord_x_l93','coord_y_l93','X_lamb2','Y_lamb2','LON','LAT']].copy()\n",
    "sites.fillna(sites.mean(),inplace=True)\n",
    "sites['idPolair']=pd.to_numeric(sites['idPolair'])\n",
    "sites.head()"
   ]
  },
  {
   "cell_type": "code",
   "execution_count": null,
   "metadata": {},
   "outputs": [],
   "source": [
    "meteo=pd.merge(meteo,sites,on='idPolair')\n",
    "meteo['date']=pd.to_datetime(meteo['date'])"
   ]
  },
  {
   "cell_type": "code",
   "execution_count": null,
   "metadata": {},
   "outputs": [],
   "source": [
    "meteo.set_index(['idPolair','date'],inplace=True)\n",
    "meteo.sort_index(inplace=True)\n",
    "meteo.interpolate(inplace=True)"
   ]
  },
  {
   "cell_type": "code",
   "execution_count": null,
   "metadata": {},
   "outputs": [],
   "source": [
    "allData=pd.merge(meteo,t5,left_index=True,right_index=True)"
   ]
  },
  {
   "cell_type": "code",
   "execution_count": null,
   "metadata": {},
   "outputs": [],
   "source": [
    "allData.head()"
   ]
  },
  {
   "cell_type": "code",
   "execution_count": null,
   "metadata": {},
   "outputs": [],
   "source": [
    "x.keys()"
   ]
  },
  {
   "cell_type": "code",
   "execution_count": null,
   "metadata": {},
   "outputs": [],
   "source": [
    "geops=x['geops'].copy()\n",
    "keys = np.fromiter(geops.keys(), dtype=float)"
   ]
  },
  {
   "cell_type": "code",
   "execution_count": null,
   "metadata": {},
   "outputs": [],
   "source": [
    "z=pd.concat(geops.values(),keys=keys)\n",
    "z['date']=pd.to_datetime(z['date'])\n",
    "z.set_index(['idPolair','date'],inplace=True)\n",
    "z.sort_index(inplace=True)\n",
    "z.interpolate(inplace=True)"
   ]
  },
  {
   "cell_type": "code",
   "execution_count": null,
   "metadata": {},
   "outputs": [],
   "source": [
    "z.dtypes"
   ]
  },
  {
   "cell_type": "code",
   "execution_count": null,
   "metadata": {},
   "outputs": [],
   "source": [
    "allData=pd.merge(allData,z,left_index=True,right_index=True)"
   ]
  },
  {
   "cell_type": "code",
   "execution_count": null,
   "metadata": {},
   "outputs": [],
   "source": [
    "conc.keys()"
   ]
  },
  {
   "cell_type": "code",
   "execution_count": null,
   "metadata": {},
   "outputs": [],
   "source": [
    "conc=x['concentrations']\n",
    "NO2=conc['NO2']\n",
    "O3=conc['O3']\n",
    "PM10=conc['PM10']\n",
    "PM25=conc['PM25']\n",
    "NO2['NO2']=NO2['Valeur']\n",
    "O3['O3']=O3['Valeur']\n",
    "PM10['PM10']=PM10['Valeur']\n",
    "PM25['PM25']=PM25['Valeur']\n",
    "NO2.drop(columns=['Organisme','Station','Mesure','Valeur'],inplace=True)\n",
    "O3.drop(columns=['Organisme','Station','Mesure','Valeur'],inplace=True)\n",
    "PM10.drop(columns=['Organisme','Station','Mesure','Valeur'],inplace=True)\n",
    "PM25.drop(columns=['Organisme','Station','Mesure','Valeur'],inplace=True)\n",
    "result=pd.merge(NO2,pd.merge(O3,pd.merge(PM10,PM25,on=['idPolair','date'],how='outer'),on=['idPolair','date'],how='outer'),on=['idPolair','date'],how='outer')"
   ]
  },
  {
   "cell_type": "code",
   "execution_count": null,
   "metadata": {},
   "outputs": [],
   "source": [
    "result=pd.merge(NO2,pd.merge(O3,pd.merge(PM10,PM25,on=['idPolair','date'],how='outer'),on=['idPolair','date'],how='outer'),on=['idPolair','date'],how='outer')"
   ]
  },
  {
   "cell_type": "code",
   "execution_count": null,
   "metadata": {},
   "outputs": [],
   "source": [
    "result['idPolair']"
   ]
  },
  {
   "cell_type": "code",
   "execution_count": null,
   "metadata": {},
   "outputs": [],
   "source": [
    "O3.shape"
   ]
  },
  {
   "cell_type": "code",
   "execution_count": null,
   "metadata": {},
   "outputs": [],
   "source": [
    "t6 = x['concentrations']['NO2']\n",
    "t6.drop(columns=['Organisme','Station','Mesure'], inplace=True)\n",
    "t6['date'] = pd.to_datetime(t6['date'])\n",
    "t6.set_index(['idPolair', 'date'], inplace=True)\n",
    "t6.sort_index(inplace=True)\n",
    "t6.interpolate(inplace=True)\n",
    "t6.columns = ['NO2']"
   ]
  },
  {
   "cell_type": "code",
   "execution_count": null,
   "metadata": {},
   "outputs": [],
   "source": [
    "t6.loc['15013']"
   ]
  },
  {
   "cell_type": "code",
   "execution_count": 20,
   "metadata": {},
   "outputs": [],
   "source": [
    "t1=x['chimeres']['NO2']"
   ]
  },
  {
   "cell_type": "code",
   "execution_count": 21,
   "metadata": {},
   "outputs": [
    {
     "data": {
      "text/html": [
       "<div>\n",
       "<style scoped>\n",
       "    .dataframe tbody tr th:only-of-type {\n",
       "        vertical-align: middle;\n",
       "    }\n",
       "\n",
       "    .dataframe tbody tr th {\n",
       "        vertical-align: top;\n",
       "    }\n",
       "\n",
       "    .dataframe thead th {\n",
       "        text-align: right;\n",
       "    }\n",
       "</style>\n",
       "<table border=\"1\" class=\"dataframe\">\n",
       "  <thead>\n",
       "    <tr style=\"text-align: right;\">\n",
       "      <th></th>\n",
       "      <th>date</th>\n",
       "      <th>val</th>\n",
       "      <th>idPolair</th>\n",
       "      <th>param</th>\n",
       "    </tr>\n",
       "  </thead>\n",
       "  <tbody>\n",
       "    <tr>\n",
       "      <th>0</th>\n",
       "      <td>2016-01-01 00:00:00</td>\n",
       "      <td>9.9</td>\n",
       "      <td>15017.0</td>\n",
       "      <td>NO2</td>\n",
       "    </tr>\n",
       "    <tr>\n",
       "      <th>1</th>\n",
       "      <td>2016-01-01 00:00:00</td>\n",
       "      <td>10.0</td>\n",
       "      <td>15018.0</td>\n",
       "      <td>NO2</td>\n",
       "    </tr>\n",
       "    <tr>\n",
       "      <th>2</th>\n",
       "      <td>2016-01-01 00:00:00</td>\n",
       "      <td>10.0</td>\n",
       "      <td>15038.0</td>\n",
       "      <td>NO2</td>\n",
       "    </tr>\n",
       "    <tr>\n",
       "      <th>3</th>\n",
       "      <td>2016-01-01 00:00:00</td>\n",
       "      <td>10.0</td>\n",
       "      <td>15039.0</td>\n",
       "      <td>NO2</td>\n",
       "    </tr>\n",
       "    <tr>\n",
       "      <th>4</th>\n",
       "      <td>2016-01-01 00:00:00</td>\n",
       "      <td>10.0</td>\n",
       "      <td>15043.0</td>\n",
       "      <td>NO2</td>\n",
       "    </tr>\n",
       "  </tbody>\n",
       "</table>\n",
       "</div>"
      ],
      "text/plain": [
       "                  date   val  idPolair param\n",
       "0  2016-01-01 00:00:00   9.9   15017.0   NO2\n",
       "1  2016-01-01 00:00:00  10.0   15018.0   NO2\n",
       "2  2016-01-01 00:00:00  10.0   15038.0   NO2\n",
       "3  2016-01-01 00:00:00  10.0   15039.0   NO2\n",
       "4  2016-01-01 00:00:00  10.0   15043.0   NO2"
      ]
     },
     "execution_count": 21,
     "metadata": {},
     "output_type": "execute_result"
    }
   ],
   "source": [
    "t1.head()"
   ]
  },
  {
   "cell_type": "code",
   "execution_count": 25,
   "metadata": {},
   "outputs": [],
   "source": [
    "\n",
    "t1['date']=pandas.to_datetime(t1['date'])\n",
    "t1.set_index(['idPolair','date'],inplace=True)\n",
    "t1.sort_index(inplace=True)\n",
    "t1.interpolate(inplace=True)\n",
    "t1.columns=['NO2']"
   ]
  },
  {
   "cell_type": "code",
   "execution_count": 28,
   "metadata": {},
   "outputs": [
    {
     "data": {
      "text/html": [
       "<div>\n",
       "<style scoped>\n",
       "    .dataframe tbody tr th:only-of-type {\n",
       "        vertical-align: middle;\n",
       "    }\n",
       "\n",
       "    .dataframe tbody tr th {\n",
       "        vertical-align: top;\n",
       "    }\n",
       "\n",
       "    .dataframe thead th {\n",
       "        text-align: right;\n",
       "    }\n",
       "</style>\n",
       "<table border=\"1\" class=\"dataframe\">\n",
       "  <thead>\n",
       "    <tr style=\"text-align: right;\">\n",
       "      <th></th>\n",
       "      <th>NO2</th>\n",
       "    </tr>\n",
       "    <tr>\n",
       "      <th>date</th>\n",
       "      <th></th>\n",
       "    </tr>\n",
       "  </thead>\n",
       "  <tbody>\n",
       "    <tr>\n",
       "      <th>2016-01-01 00:00:00</th>\n",
       "      <td>9.8</td>\n",
       "    </tr>\n",
       "    <tr>\n",
       "      <th>2016-01-01 01:00:00</th>\n",
       "      <td>9.0</td>\n",
       "    </tr>\n",
       "    <tr>\n",
       "      <th>2016-01-01 02:00:00</th>\n",
       "      <td>7.3</td>\n",
       "    </tr>\n",
       "    <tr>\n",
       "      <th>2016-01-01 03:00:00</th>\n",
       "      <td>6.4</td>\n",
       "    </tr>\n",
       "    <tr>\n",
       "      <th>2016-01-01 04:00:00</th>\n",
       "      <td>6.5</td>\n",
       "    </tr>\n",
       "    <tr>\n",
       "      <th>2016-01-01 05:00:00</th>\n",
       "      <td>7.1</td>\n",
       "    </tr>\n",
       "    <tr>\n",
       "      <th>2016-01-01 06:00:00</th>\n",
       "      <td>11.5</td>\n",
       "    </tr>\n",
       "    <tr>\n",
       "      <th>2016-01-01 07:00:00</th>\n",
       "      <td>17.7</td>\n",
       "    </tr>\n",
       "    <tr>\n",
       "      <th>2016-01-01 08:00:00</th>\n",
       "      <td>16.2</td>\n",
       "    </tr>\n",
       "    <tr>\n",
       "      <th>2016-01-01 09:00:00</th>\n",
       "      <td>12.4</td>\n",
       "    </tr>\n",
       "    <tr>\n",
       "      <th>2016-01-01 10:00:00</th>\n",
       "      <td>14.6</td>\n",
       "    </tr>\n",
       "    <tr>\n",
       "      <th>2016-01-01 11:00:00</th>\n",
       "      <td>18.4</td>\n",
       "    </tr>\n",
       "    <tr>\n",
       "      <th>2016-01-01 12:00:00</th>\n",
       "      <td>19.3</td>\n",
       "    </tr>\n",
       "    <tr>\n",
       "      <th>2016-01-01 13:00:00</th>\n",
       "      <td>18.1</td>\n",
       "    </tr>\n",
       "    <tr>\n",
       "      <th>2016-01-01 14:00:00</th>\n",
       "      <td>17.3</td>\n",
       "    </tr>\n",
       "    <tr>\n",
       "      <th>2016-01-01 15:00:00</th>\n",
       "      <td>19.8</td>\n",
       "    </tr>\n",
       "    <tr>\n",
       "      <th>2016-01-01 16:00:00</th>\n",
       "      <td>21.7</td>\n",
       "    </tr>\n",
       "    <tr>\n",
       "      <th>2016-01-01 17:00:00</th>\n",
       "      <td>16.9</td>\n",
       "    </tr>\n",
       "    <tr>\n",
       "      <th>2016-01-01 18:00:00</th>\n",
       "      <td>6.7</td>\n",
       "    </tr>\n",
       "    <tr>\n",
       "      <th>2016-01-01 19:00:00</th>\n",
       "      <td>3.2</td>\n",
       "    </tr>\n",
       "    <tr>\n",
       "      <th>2016-01-01 20:00:00</th>\n",
       "      <td>2.0</td>\n",
       "    </tr>\n",
       "    <tr>\n",
       "      <th>2016-01-01 21:00:00</th>\n",
       "      <td>1.2</td>\n",
       "    </tr>\n",
       "    <tr>\n",
       "      <th>2016-01-01 22:00:00</th>\n",
       "      <td>0.9</td>\n",
       "    </tr>\n",
       "    <tr>\n",
       "      <th>2016-01-01 23:00:00</th>\n",
       "      <td>0.8</td>\n",
       "    </tr>\n",
       "    <tr>\n",
       "      <th>2016-01-02 00:00:00</th>\n",
       "      <td>0.6</td>\n",
       "    </tr>\n",
       "    <tr>\n",
       "      <th>2016-01-02 01:00:00</th>\n",
       "      <td>0.7</td>\n",
       "    </tr>\n",
       "    <tr>\n",
       "      <th>2016-01-02 02:00:00</th>\n",
       "      <td>0.6</td>\n",
       "    </tr>\n",
       "    <tr>\n",
       "      <th>2016-01-02 03:00:00</th>\n",
       "      <td>0.6</td>\n",
       "    </tr>\n",
       "    <tr>\n",
       "      <th>2016-01-02 04:00:00</th>\n",
       "      <td>0.8</td>\n",
       "    </tr>\n",
       "    <tr>\n",
       "      <th>2016-01-02 05:00:00</th>\n",
       "      <td>1.2</td>\n",
       "    </tr>\n",
       "    <tr>\n",
       "      <th>...</th>\n",
       "      <td>...</td>\n",
       "    </tr>\n",
       "    <tr>\n",
       "      <th>2016-12-30 19:00:00</th>\n",
       "      <td>41.8</td>\n",
       "    </tr>\n",
       "    <tr>\n",
       "      <th>2016-12-30 20:00:00</th>\n",
       "      <td>32.2</td>\n",
       "    </tr>\n",
       "    <tr>\n",
       "      <th>2016-12-30 21:00:00</th>\n",
       "      <td>24.9</td>\n",
       "    </tr>\n",
       "    <tr>\n",
       "      <th>2016-12-30 22:00:00</th>\n",
       "      <td>20.3</td>\n",
       "    </tr>\n",
       "    <tr>\n",
       "      <th>2016-12-30 23:00:00</th>\n",
       "      <td>17.1</td>\n",
       "    </tr>\n",
       "    <tr>\n",
       "      <th>2016-12-31 00:00:00</th>\n",
       "      <td>13.9</td>\n",
       "    </tr>\n",
       "    <tr>\n",
       "      <th>2016-12-31 01:00:00</th>\n",
       "      <td>13.3</td>\n",
       "    </tr>\n",
       "    <tr>\n",
       "      <th>2016-12-31 02:00:00</th>\n",
       "      <td>12.4</td>\n",
       "    </tr>\n",
       "    <tr>\n",
       "      <th>2016-12-31 03:00:00</th>\n",
       "      <td>12.1</td>\n",
       "    </tr>\n",
       "    <tr>\n",
       "      <th>2016-12-31 04:00:00</th>\n",
       "      <td>14.4</td>\n",
       "    </tr>\n",
       "    <tr>\n",
       "      <th>2016-12-31 05:00:00</th>\n",
       "      <td>17.2</td>\n",
       "    </tr>\n",
       "    <tr>\n",
       "      <th>2016-12-31 06:00:00</th>\n",
       "      <td>18.7</td>\n",
       "    </tr>\n",
       "    <tr>\n",
       "      <th>2016-12-31 07:00:00</th>\n",
       "      <td>23.5</td>\n",
       "    </tr>\n",
       "    <tr>\n",
       "      <th>2016-12-31 08:00:00</th>\n",
       "      <td>28.6</td>\n",
       "    </tr>\n",
       "    <tr>\n",
       "      <th>2016-12-31 09:00:00</th>\n",
       "      <td>29.8</td>\n",
       "    </tr>\n",
       "    <tr>\n",
       "      <th>2016-12-31 10:00:00</th>\n",
       "      <td>31.3</td>\n",
       "    </tr>\n",
       "    <tr>\n",
       "      <th>2016-12-31 11:00:00</th>\n",
       "      <td>33.1</td>\n",
       "    </tr>\n",
       "    <tr>\n",
       "      <th>2016-12-31 12:00:00</th>\n",
       "      <td>33.8</td>\n",
       "    </tr>\n",
       "    <tr>\n",
       "      <th>2016-12-31 13:00:00</th>\n",
       "      <td>34.4</td>\n",
       "    </tr>\n",
       "    <tr>\n",
       "      <th>2016-12-31 14:00:00</th>\n",
       "      <td>38.0</td>\n",
       "    </tr>\n",
       "    <tr>\n",
       "      <th>2016-12-31 15:00:00</th>\n",
       "      <td>43.6</td>\n",
       "    </tr>\n",
       "    <tr>\n",
       "      <th>2016-12-31 16:00:00</th>\n",
       "      <td>51.4</td>\n",
       "    </tr>\n",
       "    <tr>\n",
       "      <th>2016-12-31 17:00:00</th>\n",
       "      <td>50.5</td>\n",
       "    </tr>\n",
       "    <tr>\n",
       "      <th>2016-12-31 18:00:00</th>\n",
       "      <td>50.2</td>\n",
       "    </tr>\n",
       "    <tr>\n",
       "      <th>2016-12-31 19:00:00</th>\n",
       "      <td>49.9</td>\n",
       "    </tr>\n",
       "    <tr>\n",
       "      <th>2016-12-31 20:00:00</th>\n",
       "      <td>46.0</td>\n",
       "    </tr>\n",
       "    <tr>\n",
       "      <th>2016-12-31 21:00:00</th>\n",
       "      <td>39.6</td>\n",
       "    </tr>\n",
       "    <tr>\n",
       "      <th>2016-12-31 22:00:00</th>\n",
       "      <td>33.5</td>\n",
       "    </tr>\n",
       "    <tr>\n",
       "      <th>2016-12-31 23:00:00</th>\n",
       "      <td>28.8</td>\n",
       "    </tr>\n",
       "    <tr>\n",
       "      <th>2017-01-01 00:00:00</th>\n",
       "      <td>24.2</td>\n",
       "    </tr>\n",
       "  </tbody>\n",
       "</table>\n",
       "<p>8785 rows × 1 columns</p>\n",
       "</div>"
      ],
      "text/plain": [
       "                      NO2\n",
       "date                     \n",
       "2016-01-01 00:00:00   9.8\n",
       "2016-01-01 01:00:00   9.0\n",
       "2016-01-01 02:00:00   7.3\n",
       "2016-01-01 03:00:00   6.4\n",
       "2016-01-01 04:00:00   6.5\n",
       "2016-01-01 05:00:00   7.1\n",
       "2016-01-01 06:00:00  11.5\n",
       "2016-01-01 07:00:00  17.7\n",
       "2016-01-01 08:00:00  16.2\n",
       "2016-01-01 09:00:00  12.4\n",
       "2016-01-01 10:00:00  14.6\n",
       "2016-01-01 11:00:00  18.4\n",
       "2016-01-01 12:00:00  19.3\n",
       "2016-01-01 13:00:00  18.1\n",
       "2016-01-01 14:00:00  17.3\n",
       "2016-01-01 15:00:00  19.8\n",
       "2016-01-01 16:00:00  21.7\n",
       "2016-01-01 17:00:00  16.9\n",
       "2016-01-01 18:00:00   6.7\n",
       "2016-01-01 19:00:00   3.2\n",
       "2016-01-01 20:00:00   2.0\n",
       "2016-01-01 21:00:00   1.2\n",
       "2016-01-01 22:00:00   0.9\n",
       "2016-01-01 23:00:00   0.8\n",
       "2016-01-02 00:00:00   0.6\n",
       "2016-01-02 01:00:00   0.7\n",
       "2016-01-02 02:00:00   0.6\n",
       "2016-01-02 03:00:00   0.6\n",
       "2016-01-02 04:00:00   0.8\n",
       "2016-01-02 05:00:00   1.2\n",
       "...                   ...\n",
       "2016-12-30 19:00:00  41.8\n",
       "2016-12-30 20:00:00  32.2\n",
       "2016-12-30 21:00:00  24.9\n",
       "2016-12-30 22:00:00  20.3\n",
       "2016-12-30 23:00:00  17.1\n",
       "2016-12-31 00:00:00  13.9\n",
       "2016-12-31 01:00:00  13.3\n",
       "2016-12-31 02:00:00  12.4\n",
       "2016-12-31 03:00:00  12.1\n",
       "2016-12-31 04:00:00  14.4\n",
       "2016-12-31 05:00:00  17.2\n",
       "2016-12-31 06:00:00  18.7\n",
       "2016-12-31 07:00:00  23.5\n",
       "2016-12-31 08:00:00  28.6\n",
       "2016-12-31 09:00:00  29.8\n",
       "2016-12-31 10:00:00  31.3\n",
       "2016-12-31 11:00:00  33.1\n",
       "2016-12-31 12:00:00  33.8\n",
       "2016-12-31 13:00:00  34.4\n",
       "2016-12-31 14:00:00  38.0\n",
       "2016-12-31 15:00:00  43.6\n",
       "2016-12-31 16:00:00  51.4\n",
       "2016-12-31 17:00:00  50.5\n",
       "2016-12-31 18:00:00  50.2\n",
       "2016-12-31 19:00:00  49.9\n",
       "2016-12-31 20:00:00  46.0\n",
       "2016-12-31 21:00:00  39.6\n",
       "2016-12-31 22:00:00  33.5\n",
       "2016-12-31 23:00:00  28.8\n",
       "2017-01-01 00:00:00  24.2\n",
       "\n",
       "[8785 rows x 1 columns]"
      ]
     },
     "execution_count": 28,
     "metadata": {},
     "output_type": "execute_result"
    }
   ],
   "source": [
    "t1.loc[15013]"
   ]
  },
  {
   "cell_type": "code",
   "execution_count": null,
   "metadata": {},
   "outputs": [],
   "source": []
  }
 ],
 "metadata": {
  "kernelspec": {
   "display_name": "Python 3",
   "language": "python",
   "name": "python3"
  },
  "language_info": {
   "codemirror_mode": {
    "name": "ipython",
    "version": 3
   },
   "file_extension": ".py",
   "mimetype": "text/x-python",
   "name": "python",
   "nbconvert_exporter": "python",
   "pygments_lexer": "ipython3",
   "version": "3.6.6"
  }
 },
 "nbformat": 4,
 "nbformat_minor": 2
}
