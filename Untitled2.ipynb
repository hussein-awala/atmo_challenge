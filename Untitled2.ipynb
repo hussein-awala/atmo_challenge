{
 "cells": [
  {
   "cell_type": "code",
   "execution_count": 1,
   "metadata": {},
   "outputs": [
    {
     "name": "stdout",
     "output_type": "stream",
     "text": [
      "loading data\n",
      "7001.0\n"
     ]
    },
    {
     "name": "stderr",
     "output_type": "stream",
     "text": [
      "/home/hussein/PycharmProjects/team_first_place/training_data.py:116: SettingWithCopyWarning: \n",
      "A value is trying to be set on a copy of a slice from a DataFrame.\n",
      "Try using .loc[row_indexer,col_indexer] = value instead\n",
      "\n",
      "See the caveats in the documentation: http://pandas.pydata.org/pandas-docs/stable/indexing.html#indexing-view-versus-copy\n",
      "  group['date'] = pd.to_datetime(group['date'])\n",
      "/home/hussein/PycharmProjects/team_first_place/training_data.py:145: SettingWithCopyWarning: \n",
      "A value is trying to be set on a copy of a slice from a DataFrame.\n",
      "Try using .loc[row_indexer,col_indexer] = value instead\n",
      "\n",
      "See the caveats in the documentation: http://pandas.pydata.org/pandas-docs/stable/indexing.html#indexing-view-versus-copy\n",
      "  data[col+'_t+'+str(i)]=data[col].shift(sig*i)\n"
     ]
    },
    {
     "name": "stdout",
     "output_type": "stream",
     "text": [
      "7004.0\n",
      "7009.0\n",
      "7010.0\n",
      "7011.0\n",
      "7012.0\n",
      "7013.0\n",
      "7014.0\n",
      "7015.0\n",
      "7016.0\n",
      "7017.0\n",
      "7018.0\n",
      "7020.0\n",
      "7022.0\n",
      "7028.0\n",
      "7029.0\n",
      "7031.0\n",
      "7032.0\n",
      "7034.0\n",
      "7039.0\n",
      "7042.0\n",
      "7043.0\n",
      "7045.0\n",
      "7048.0\n",
      "7049.0\n",
      "7051.0\n",
      "7052.0\n",
      "7053.0\n",
      "7054.0\n",
      "7056.0\n",
      "7057.0\n",
      "7058.0\n",
      "15013.0\n",
      "15017.0\n",
      "15018.0\n",
      "15031.0\n",
      "15038.0\n",
      "15039.0\n",
      "15043.0\n",
      "15045.0\n",
      "15046.0\n",
      "15048.0\n",
      "15049.0\n",
      "15114.0\n",
      "20004.0\n",
      "20013.0\n",
      "20017.0\n",
      "20019.0\n",
      "20029.0\n",
      "20031.0\n",
      "20037.0\n",
      "20045.0\n",
      "20046.0\n",
      "20047.0\n",
      "20048.0\n",
      "20049.0\n",
      "20061.0\n",
      "20062.0\n",
      "20063.0\n",
      "20065.0\n",
      "20069.0\n",
      "20070.0\n",
      "27002.0\n",
      "27003.0\n",
      "27004.0\n",
      "27005.0\n",
      "27007.0\n",
      "27008.0\n",
      "27010.0\n",
      "29421.0\n",
      "29423.0\n",
      "29424.0\n",
      "29426.0\n",
      "29428.0\n",
      "29429.0\n",
      "29439.0\n",
      "29440.0\n",
      "29441.0\n",
      "33101.0\n",
      "33102.0\n",
      "33105.0\n",
      "33111.0\n",
      "33114.0\n",
      "33120.0\n",
      "33121.0\n",
      "33122.0\n",
      "33201.0\n",
      "33202.0\n",
      "33203.0\n",
      "33211.0\n",
      "33212.0\n",
      "33213.0\n",
      "33220.0\n",
      "33232.0\n",
      "33233.0\n",
      "33235.0\n",
      "33302.0\n",
      "33303.0\n",
      "33305.0\n",
      "33367.0\n",
      "33374.0\n",
      "33414.0\n",
      "36001.0\n",
      "36002.0\n",
      "36003.0\n",
      "36005.0\n",
      "36019.0\n",
      "36021.0\n"
     ]
    }
   ],
   "source": [
    "from training_data import join_all_sites\n",
    "X,y=join_all_sites('final data set/data.csv')"
   ]
  },
  {
   "cell_type": "code",
   "execution_count": 5,
   "metadata": {},
   "outputs": [],
   "source": [
    "X.to_csv('X.csv')"
   ]
  },
  {
   "cell_type": "code",
   "execution_count": 7,
   "metadata": {},
   "outputs": [],
   "source": [
    "y.to_csv('y.csv')"
   ]
  },
  {
   "cell_type": "code",
   "execution_count": null,
   "metadata": {},
   "outputs": [],
   "source": [
    "import pandas as pd\n",
    "sites_info=pd.read_csv('sites.csv')\n",
    "sites_info.set_index('idPolair',inplace=True)"
   ]
  },
  {
   "cell_type": "code",
   "execution_count": null,
   "metadata": {},
   "outputs": [],
   "source": [
    "sites_info.head()"
   ]
  },
  {
   "cell_type": "code",
   "execution_count": null,
   "metadata": {},
   "outputs": [],
   "source": [
    "sites_info.columns"
   ]
  },
  {
   "cell_type": "code",
   "execution_count": null,
   "metadata": {},
   "outputs": [],
   "source": [
    "sites_info[['coord_x_l93', 'coord_y_l93', 'X_lamb2',\n",
    "       'Y_lamb2', 'LON', 'LAT']]"
   ]
  },
  {
   "cell_type": "code",
   "execution_count": 8,
   "metadata": {},
   "outputs": [],
   "source": [
    "import numpy as np"
   ]
  },
  {
   "cell_type": "code",
   "execution_count": 38,
   "metadata": {},
   "outputs": [],
   "source": [
    "matrix=np.array([[1,2,3],[2,3,4],[1,2,1],[9,9,9]])"
   ]
  },
  {
   "cell_type": "code",
   "execution_count": 31,
   "metadata": {},
   "outputs": [
    {
     "data": {
      "text/plain": [
       "(4, 3)"
      ]
     },
     "execution_count": 31,
     "metadata": {},
     "output_type": "execute_result"
    }
   ],
   "source": [
    "matrix.shape"
   ]
  },
  {
   "cell_type": "code",
   "execution_count": 32,
   "metadata": {},
   "outputs": [],
   "source": [
    "z=np.append(matrix,[1,1,1])"
   ]
  },
  {
   "cell_type": "code",
   "execution_count": 33,
   "metadata": {},
   "outputs": [
    {
     "data": {
      "text/plain": [
       "4"
      ]
     },
     "execution_count": 33,
     "metadata": {},
     "output_type": "execute_result"
    }
   ],
   "source": [
    "matrix.shape[0]"
   ]
  },
  {
   "cell_type": "code",
   "execution_count": 39,
   "metadata": {},
   "outputs": [
    {
     "data": {
      "text/plain": [
       "array([9.  , 9.  , 9.  , 1.  , 2.  , 1.  , 2.  , 3.  , 4.  , 1.  , 2.  ,\n",
       "       3.  , 3.25, 4.  , 4.25, 3.25, 4.  , 4.25, 3.25, 4.  , 4.25, 3.25,\n",
       "       4.  , 4.25, 3.25, 4.  , 4.25, 3.25, 4.  , 4.25])"
      ]
     },
     "execution_count": 39,
     "metadata": {},
     "output_type": "execute_result"
    }
   ],
   "source": [
    "matrix=matrix[::-1]\n",
    "matrix=matrix[:10]\n",
    "i=matrix.shape[0]\n",
    "m=matrix.mean(0)\n",
    "while (i-10)<0:\n",
    "    matrix=np.append(matrix,m)\n",
    "    i=i+1\n",
    "matrix=np.append(matrix,[])\n",
    "matrix"
   ]
  },
  {
   "cell_type": "code",
   "execution_count": 40,
   "metadata": {},
   "outputs": [
    {
     "data": {
      "text/plain": [
       "(30,)"
      ]
     },
     "execution_count": 40,
     "metadata": {},
     "output_type": "execute_result"
    }
   ],
   "source": [
    "matrix.shape"
   ]
  },
  {
   "cell_type": "code",
   "execution_count": 46,
   "metadata": {},
   "outputs": [
    {
     "data": {
      "text/plain": [
       "(10, 12)"
      ]
     },
     "execution_count": 46,
     "metadata": {},
     "output_type": "execute_result"
    }
   ],
   "source": [
    "y.head(10).shape"
   ]
  },
  {
   "cell_type": "code",
   "execution_count": 42,
   "metadata": {},
   "outputs": [],
   "source": [
    "import prediction"
   ]
  },
  {
   "cell_type": "code",
   "execution_count": 52,
   "metadata": {},
   "outputs": [
    {
     "data": {
      "text/html": [
       "<div>\n",
       "<style scoped>\n",
       "    .dataframe tbody tr th:only-of-type {\n",
       "        vertical-align: middle;\n",
       "    }\n",
       "\n",
       "    .dataframe tbody tr th {\n",
       "        vertical-align: top;\n",
       "    }\n",
       "\n",
       "    .dataframe thead th {\n",
       "        text-align: right;\n",
       "    }\n",
       "</style>\n",
       "<table border=\"1\" class=\"dataframe\">\n",
       "  <thead>\n",
       "    <tr style=\"text-align: right;\">\n",
       "      <th></th>\n",
       "      <th>NO2</th>\n",
       "      <th>O3</th>\n",
       "      <th>PM10</th>\n",
       "      <th>PM25</th>\n",
       "      <th>NO2_t+1</th>\n",
       "      <th>O3_t+1</th>\n",
       "      <th>PM10_t+1</th>\n",
       "      <th>PM25_t+1</th>\n",
       "      <th>NO2_t+2</th>\n",
       "      <th>O3_t+2</th>\n",
       "      <th>PM10_t+2</th>\n",
       "      <th>PM25_t+2</th>\n",
       "    </tr>\n",
       "  </thead>\n",
       "  <tbody>\n",
       "    <tr>\n",
       "      <th>0</th>\n",
       "      <td>4.333333</td>\n",
       "      <td>61.625</td>\n",
       "      <td>22.551447</td>\n",
       "      <td>22.450259</td>\n",
       "      <td>2.041667</td>\n",
       "      <td>59.458333</td>\n",
       "      <td>22.551447</td>\n",
       "      <td>22.450259</td>\n",
       "      <td>5.666667</td>\n",
       "      <td>41.375</td>\n",
       "      <td>22.551447</td>\n",
       "      <td>22.450259</td>\n",
       "    </tr>\n",
       "  </tbody>\n",
       "</table>\n",
       "</div>"
      ],
      "text/plain": [
       "        NO2      O3       PM10       PM25   NO2_t+1     O3_t+1   PM10_t+1  \\\n",
       "0  4.333333  61.625  22.551447  22.450259  2.041667  59.458333  22.551447   \n",
       "\n",
       "    PM25_t+1   NO2_t+2  O3_t+2   PM10_t+2   PM25_t+2  \n",
       "0  22.450259  5.666667  41.375  22.551447  22.450259  "
      ]
     },
     "execution_count": 52,
     "metadata": {},
     "output_type": "execute_result"
    }
   ],
   "source": [
    "y.head(1)"
   ]
  },
  {
   "cell_type": "code",
   "execution_count": null,
   "metadata": {},
   "outputs": [],
   "source": []
  }
 ],
 "metadata": {
  "kernelspec": {
   "display_name": "Python 3",
   "language": "python",
   "name": "python3"
  },
  "language_info": {
   "codemirror_mode": {
    "name": "ipython",
    "version": 3
   },
   "file_extension": ".py",
   "mimetype": "text/x-python",
   "name": "python",
   "nbconvert_exporter": "python",
   "pygments_lexer": "ipython3",
   "version": "3.6.6"
  }
 },
 "nbformat": 4,
 "nbformat_minor": 2
}
